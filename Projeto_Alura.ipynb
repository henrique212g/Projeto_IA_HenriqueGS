{
  "nbformat": 4,
  "nbformat_minor": 0,
  "metadata": {
    "colab": {
      "provenance": [],
      "authorship_tag": "ABX9TyM7PSSnG05jtwplzXolzm1Q",
      "include_colab_link": true
    },
    "kernelspec": {
      "name": "python3",
      "display_name": "Python 3"
    },
    "language_info": {
      "name": "python"
    }
  },
  "cells": [
    {
      "cell_type": "markdown",
      "metadata": {
        "id": "view-in-github",
        "colab_type": "text"
      },
      "source": [
        "<a href=\"https://colab.research.google.com/github/henrique212g/Projeto_IA_HenriqueGS/blob/main/Projeto_Alura.ipynb\" target=\"_parent\"><img src=\"https://colab.research.google.com/assets/colab-badge.svg\" alt=\"Open In Colab\"/></a>"
      ]
    },
    {
      "cell_type": "markdown",
      "source": [
        "**Projeto Alura - Geração de História colaborativa para crianças objetivando aprendizado de temas ambientais**"
      ],
      "metadata": {
        "id": "3ZxKch4r7cvS"
      }
    },
    {
      "cell_type": "code",
      "execution_count": 1,
      "metadata": {
        "colab": {
          "base_uri": "https://localhost:8080/",
          "height": 139
        },
        "id": "feLNAAcY6pDC",
        "outputId": "a8648239-19cb-4352-9ed9-849eafb7aa1a"
      },
      "outputs": [
        {
          "output_type": "stream",
          "name": "stdout",
          "text": [
            "models/gemini-1.0-pro\n",
            "models/gemini-1.0-pro-001\n",
            "models/gemini-1.0-pro-latest\n",
            "models/gemini-1.0-pro-vision-latest\n",
            "models/gemini-1.5-pro-latest\n",
            "models/gemini-pro\n",
            "models/gemini-pro-vision\n"
          ]
        }
      ],
      "source": [
        "# 1. CONFIGURAÇÕES INICIAIS\n",
        "# Objetivo: Gerar um modelo do gemini 1.0 pro configurado para ser usado no Python.\n",
        "\n",
        "\n",
        "#Instalando o SDK do Google\n",
        "!pip install -q -U google-generativeai\n",
        "\n",
        "#Importando bibliotecas\n",
        "import google.generativeai as genai\n",
        "import pandas as pd\n",
        "\n",
        "#Lendo a api_key do google ai studio\n",
        "from google.colab import userdata\n",
        "GOOGLE_API_KEY=userdata.get('SECRET_KEY')\n",
        "genai.configure(api_key=GOOGLE_API_KEY)\n",
        "\n",
        "#Listando os modelos disponíveis\n",
        "for m in genai.list_models():\n",
        "  if 'generateContent' in m.supported_generation_methods:\n",
        "    print(m.name)\n",
        "\n",
        "#Configurando o modelo do google Gemini\n",
        "\n",
        "config_gerais = {\n",
        "  \"candidate_count\": 1,\n",
        "  \"temperature\": 0.5,\n",
        "}\n",
        "config_seguranca={\n",
        "    'HATE': 'BLOCK_NONE',\n",
        "    'HARASSMENT': 'BLOCK_NONE',\n",
        "    'SEXUAL' : 'BLOCK_NONE',\n",
        "    'DANGEROUS' : 'BLOCK_NONE'\n",
        "    }\n",
        "\n",
        "#Configurando o modelo a ser usado chamado \"modelo\" com base nas configurações geraise e de segurança. Neste exemplo, usando o Gemini 1.0 pro.\n",
        "modelo = genai.GenerativeModel(model_name='gemini-1.0-pro',\n",
        "                                  generation_config=config_gerais,\n",
        "                                  safety_settings=config_seguranca,)\n",
        "\n",
        "\n",
        "#Objetivo concluído com a geração do modelo gemini 1.0 pro: \"modelo\""
      ]
    },
    {
      "cell_type": "code",
      "source": [
        "# 2. Definição das funções para serem usadas na dinâmica da história.\n",
        "# Objetivo: Gerar 4 funções, uma para iniciar a história, outra para a resposta do usuário e outra para a do modelo Gemini.\n",
        "\n",
        "\n",
        "# 1ª Função: gerar_inicio.\n",
        "# Objetivo: pergunta ao usuário se ele quer escolher o tema da história, caso ele queira, então o modelo gera o início da história baseado naquele tema, caso contrário é gerado o início com tema escolhido pelo modelo.\n",
        "def gerar_inicio():\n",
        "    tema_usuario = input(\"Qual o tema da história?\")\n",
        "    contexto_inicio = f\"Vamos escrever uma história juntos, preciso que vc faça o primeiro parágrafo dessa história, crie um tema relacionado ao meio ambiente. Essa história é para uma criança de 7 a 12 anos. A criança sugere que tenha haver com: {tema_usuario}\"\n",
        "    inicio = modelo.generate_content(contexto_inicio)\n",
        "    historia_inicio = inicio.text\n",
        "    print(historia_inicio)\n",
        "    return historia_inicio\n",
        "\n",
        "# 2ª Função: obter_entrada_usuario.\n",
        "# Objetivo: gera a parte da história pelo usuário.\n",
        "def obter_entrada_usuario(historia_anterior):\n",
        "    continuacao_usuario = input(\"Continue a história \")\n",
        "    historia_soma = f\"{historia_anterior}\\n{continuacao_usuario}\"\n",
        "    print(continuacao_usuario)\n",
        "    return historia_soma\n",
        "\n",
        "# 3ª Função: gerar_entrada_modelo.\n",
        "# Objetivo: gera a parte da história pelo usuário.\n",
        "def gerar_entrada_modelo(historia_anterior):\n",
        "    #contexto = f\"Estamos criando uma história juntos, a história está assim{historia_anterior}. Agora você precisa escrever o próximo parágrafo da história, apenas um parágrafo, não finalize a história. Precisamos ensinar algo relacionado ao meio ambiente a crianca de 7 a 12 anos que está lendo\"\n",
        "    contexto = f\"Estamos criando uma história juntos, a história está assim{historia_anterior}. Agora você precisa escrever o próximo parágrafo da história, apenas um parágrafo, não finalize a história. A criança que está escrevendo a história junto tem de 7 a 12 anos.\"\n",
        "    continuacao_modelo_output= modelo.generate_content(contexto)\n",
        "    continuacao_modelo = continuacao_modelo_output.text\n",
        "    historia_soma = f\"{historia_anterior}\\n{continuacao_modelo}\"\n",
        "    print(continuacao_modelo)\n",
        "    return historia_soma\n",
        "\n",
        "# 4ª Função: finalizar_historia\n",
        "# Objetivo: finaliza a história\n",
        "def finalizar_historia(historia_anterior):\n",
        "    contexto = f\"Estamos criando uma história juntos, a história está assim{historia_anterior}. Agora você precisa escrever o fim da história. Precisamos concluir mostrando para a criança as lições aprendidas relacionadas ao meio ambiente. A crianca que está lendo tem de 7 a 12 anos\"\n",
        "    continuacao_modelo_output= modelo.generate_content(contexto)\n",
        "    continuacao_modelo = continuacao_modelo_output.text\n",
        "    historia_soma = f\"{historia_anterior}\\n{continuacao_modelo}\"\n",
        "    print(historia_soma)\n",
        "    return historia_soma\n",
        "\n",
        "\n",
        "# Objetivo concluido com a definição das 4 funções planejadas"
      ],
      "metadata": {
        "id": "lPeXq55MVDHy"
      },
      "execution_count": 2,
      "outputs": []
    },
    {
      "cell_type": "code",
      "source": [
        "# 3. Código principal\n",
        "# Objetivo: gerar o código para geração da história completa colaborativa entre o usuário e o modelo Gemini\n",
        "\n",
        "\n",
        "#1. Gerar o início da história\n",
        "historia_anterior_feita = gerar_inicio()\n",
        "\n",
        "#2. Gerar a história intercalando \"usuário\" com \"modelo\"\n",
        "#variável de controle chamada \"fim\", onde \"1\" representa \"fim da história\" e \"2\" continuação da história.\n",
        "fim=2\n",
        "#A primeira parte da história foi escrita pelo modelo, assim a segunda parte será do usuário, ao final da parte da história dele é perguntado se ele quer finalizar a história: se sim, é chamado o código para o fim da história, caso contrário continua com mais uma parte escrita pelo modelo.\n",
        "while(fim == 2):\n",
        "    historia_anterior_feita = obter_entrada_usuario(historia_anterior_feita)\n",
        "    fim = int(input(\"Quer finalizar a história agora? Digite 1 para SIM e 2 para NÃO\"))\n",
        "    if(fim == 2):\n",
        "      historia_anterior_feita = gerar_entrada_modelo(historia_anterior_feita)\n",
        "    else:\n",
        "      historia_anterior_feita = finalizar_historia(historia_anterior_feita)\n",
        "\n",
        "print(\"Espero que tenha gostado.\")\n"
      ],
      "metadata": {
        "colab": {
          "base_uri": "https://localhost:8080/",
          "height": 714
        },
        "id": "bC-GIQGzDRzP",
        "outputId": "30792e12-47e8-4e5c-fa23-cd0d14800a4b"
      },
      "execution_count": 3,
      "outputs": [
        {
          "output_type": "stream",
          "name": "stdout",
          "text": [
            "Qual o tema da história?O Sol\n",
            "Em um mundo mágico onde o Sol era o centro de tudo, havia uma jovem chamada Luna que adorava explorar a natureza. Um dia ensolarado, enquanto brincava na floresta, Luna notou algo estranho. As folhas das árvores pareciam murchas, os pássaros não cantavam e o ar estava pesado. Preocupada, ela correu para casa para contar a seus pais o que havia visto.\n",
            "Continue a história O Sol estava muito forte naquele dia, Luna achou que o Sol havia matado as árvores, mas ela estava confusa.\n",
            "O Sol estava muito forte naquele dia, Luna achou que o Sol havia matado as árvores, mas ela estava confusa.\n",
            "Quer finalizar a história agora? Digite 1 para SIM e 2 para NÃO2\n",
            "Luna correu para casa, seu coração disparado. Ela irrompeu pela porta e gritou: \"Mãe! Pai! Algo está errado!\" Seus pais olharam para cima, preocupados. \"O que é, Luna?\", perguntou sua mãe. Luna respirou fundo e contou a eles o que havia visto na floresta. Seus pais ouviram em silêncio, seus rostos sombrios. \"Isso não é bom\", disse seu pai. \"O Sol é a fonte de toda a vida neste mundo. Se algo estiver errado com ele, todos nós estamos em perigo.\"\n",
            "Continue a história Ai Luna percebeu que o problema não era o Sol, mas sim alguém que havia cortado algumas árvores.\n",
            "Ai Luna percebeu que o problema não era o Sol, mas sim alguém que havia cortado algumas árvores.\n",
            "Quer finalizar a história agora? Digite 1 para SIM e 2 para NÃO2\n",
            "Luna e seus pais decidiram investigar imediatamente. Eles se aventuraram na floresta, seguindo os passos de Luna até o local onde ela havia visto as árvores murchas. Para sua surpresa, eles descobriram que várias árvores haviam sido derrubadas, seus troncos serrados e deixados para trás. Luna ficou horrorizada. Ela nunca tinha visto nada parecido antes. Seu pai franziu a testa, preocupado. \"Parece que alguém está cortando nossas árvores\", disse ele. \"Precisamos descobrir quem é e impedi-los antes que destruam toda a floresta.\"\n",
            "Continue a história Luna ficou preocupada, ela amava brincar entre as árvores, não queria que o fim da floresta tão linda.\n",
            "Luna ficou preocupada, ela amava brincar entre as árvores, não queria que o fim da floresta tão linda.\n",
            "Quer finalizar a história agora? Digite 1 para SIM e 2 para NÃO2\n",
            "Luna e seus pais seguiram as pegadas deixadas pelos lenhadores até uma clareira escondida. Lá, eles encontraram um grupo de homens armados com machados e serras. Os homens estavam cortando árvores sem parar, deixando um rastro de destruição em seu caminho. Luna ficou furiosa. Ela correu em direção aos homens, gritando: \"Parem! Vocês não podem cortar as árvores! Elas são a nossa vida!\"\n",
            "Continue a história \n",
            "\n",
            "Quer finalizar a história agora? Digite 1 para SIM e 2 para NÃO1\n",
            "Em um mundo mágico onde o Sol era o centro de tudo, havia uma jovem chamada Luna que adorava explorar a natureza. Um dia ensolarado, enquanto brincava na floresta, Luna notou algo estranho. As folhas das árvores pareciam murchas, os pássaros não cantavam e o ar estava pesado. Preocupada, ela correu para casa para contar a seus pais o que havia visto.\n",
            "O Sol estava muito forte naquele dia, Luna achou que o Sol havia matado as árvores, mas ela estava confusa.\n",
            "Luna correu para casa, seu coração disparado. Ela irrompeu pela porta e gritou: \"Mãe! Pai! Algo está errado!\" Seus pais olharam para cima, preocupados. \"O que é, Luna?\", perguntou sua mãe. Luna respirou fundo e contou a eles o que havia visto na floresta. Seus pais ouviram em silêncio, seus rostos sombrios. \"Isso não é bom\", disse seu pai. \"O Sol é a fonte de toda a vida neste mundo. Se algo estiver errado com ele, todos nós estamos em perigo.\"\n",
            "Ai Luna percebeu que o problema não era o Sol, mas sim alguém que havia cortado algumas árvores.\n",
            "Luna e seus pais decidiram investigar imediatamente. Eles se aventuraram na floresta, seguindo os passos de Luna até o local onde ela havia visto as árvores murchas. Para sua surpresa, eles descobriram que várias árvores haviam sido derrubadas, seus troncos serrados e deixados para trás. Luna ficou horrorizada. Ela nunca tinha visto nada parecido antes. Seu pai franziu a testa, preocupado. \"Parece que alguém está cortando nossas árvores\", disse ele. \"Precisamos descobrir quem é e impedi-los antes que destruam toda a floresta.\"\n",
            "Luna ficou preocupada, ela amava brincar entre as árvores, não queria que o fim da floresta tão linda.\n",
            "Luna e seus pais seguiram as pegadas deixadas pelos lenhadores até uma clareira escondida. Lá, eles encontraram um grupo de homens armados com machados e serras. Os homens estavam cortando árvores sem parar, deixando um rastro de destruição em seu caminho. Luna ficou furiosa. Ela correu em direção aos homens, gritando: \"Parem! Vocês não podem cortar as árvores! Elas são a nossa vida!\"\n",
            "\n",
            "Os homens pararam e olharam para Luna com surpresa. Eles nunca tinham esperado encontrar alguém defendendo as árvores. O pai de Luna se aproximou e falou com calma: \"Vocês precisam parar de cortar essas árvores. Elas são essenciais para a vida neste mundo. Elas fornecem oxigênio, abrigo e alimento para todos nós.\"\n",
            "\n",
            "Um dos homens deu um passo à frente. \"Entendemos sua preocupação\", disse ele. \"Mas precisamos dessas árvores para construir casas e móveis. Não temos escolha.\"\n",
            "\n",
            "\"Existem outras maneiras de obter os recursos necessários sem destruir a floresta\", argumentou a mãe de Luna. \"Podemos usar materiais sustentáveis ou plantar novas árvores para substituir as que cortamos.\"\n",
            "\n",
            "Os homens ouviram atentamente. Eles nunca haviam considerado as consequências de suas ações antes. Luna olhou para os homens com esperança em seus olhos. Ela sabia que eles podiam fazer a coisa certa.\n",
            "\n",
            "Depois de um longo silêncio, o líder dos homens falou: \"Vocês estão certos. Não podemos continuar cortando árvores desta forma. Vamos parar e encontrar maneiras alternativas de obter os recursos que precisamos.\"\n",
            "\n",
            "Luna e seus pais sorriram. Eles haviam conseguido salvar a floresta. Mas eles sabiam que o trabalho não havia acabado. Eles precisavam continuar a educar as pessoas sobre a importância do meio ambiente e garantir que a floresta fosse protegida para as gerações futuras.\n",
            "\n",
            "E assim, Luna aprendeu uma lição valiosa sobre a importância de falar e defender o que é certo. Ela também aprendeu que mesmo as ações mais simples podem fazer uma grande diferença para o mundo.\n",
            "Espero que tenha gostado.\n"
          ]
        }
      ]
    }
  ]
}